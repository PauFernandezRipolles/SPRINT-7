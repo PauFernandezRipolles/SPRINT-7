{
 "cells": [
  {
   "cell_type": "markdown",
   "metadata": {},
   "source": [
    "# NIVELL 1  EXERCICI 1"
   ]
  },
  {
   "cell_type": "markdown",
   "metadata": {},
   "source": [
    "Calculadora de l'índex de massa corporal\n",
    "\n",
    "Escriu una funció que calculi l'IMC ingressat per l'usuari/ària, és a dir, qui ho executi haurà d'ingressar aquestes dades. Pots obtenir més informació del seu càlcul en:\n",
    "\n",
    "-> Índice de masa corporal IMC que es y como se calcula.\n",
    "\n",
    "La funció ha de classificar el resultat en les seves respectives categories"
   ]
  },
  {
   "cell_type": "code",
   "execution_count": 3,
   "metadata": {},
   "outputs": [
    {
     "name": "stdout",
     "output_type": "stream",
     "text": [
      "Tens sobrepès, però estàs 'estupendo/a'!\n"
     ]
    }
   ],
   "source": [
    "pes = float(input(\"Si us plau, introdueix el teu pes en kilograms: \"))\n",
    "alçada = float(input(\"Introdueix la teva alçada en metres: \"))\n",
    "imc = pes / (alçada ** 2)\n",
    "\n",
    "if imc < 18.5:\n",
    "    print(\"Tens un pes baix\")\n",
    "elif 18.5 <= imc <= 24.9:\n",
    "    print(\"Tens un pes normal\")\n",
    "elif 24.9 < imc <= 29.9:\n",
    "    print(\"Tens sobrepès, però estàs 'estupendo/a'!\")\n",
    "else:\n",
    "    print(\"Tens obesitat\")"
   ]
  },
  {
   "cell_type": "markdown",
   "metadata": {},
   "source": [
    "# NIVELL 1 EXERCICI 1   "
   ]
  },
  {
   "cell_type": "markdown",
   "metadata": {},
   "source": [
    "Convertidor de temperatures.\n",
    "\n",
    "Existeixen diverses unitats de temperatura utilitzades en diferents contextos i regions. Les més comunes són Celsius (°C), Fahrenheit (°F) i Kelvin (K). També existeixen altres unitats com Rankine (°Ra) i Réaumur (°Re). Selecciona almenys 2 conversors, de tal manera que en introduir una temperatura retorni, com a mínim, dues conversions."
   ]
  },
  {
   "cell_type": "markdown",
   "metadata": {},
   "source": [
    "Primer faig un convertidor simple que transforma Celsius a Fahrenheit i Kelvin"
   ]
  },
  {
   "cell_type": "code",
   "execution_count": 3,
   "metadata": {},
   "outputs": [
    {
     "name": "stdout",
     "output_type": "stream",
     "text": [
      "25.0 graus Celsius son 77.0 graus Fahrenheit i 298.15 graus Kelvin\n"
     ]
    }
   ],
   "source": [
    "celsius = float(input(\"Introdueix els graus Celsius que vols convertir...\"))\n",
    "def convertidor_func():\n",
    "    fahr= (celsius*9/5)+32 \n",
    "    kel= celsius +273.15\n",
    "    print (f\"{celsius} graus Celsius son {fahr} graus Fahrenheit i {kel} graus Kelvin\")\n",
    "convertidor_func()"
   ]
  },
  {
   "cell_type": "markdown",
   "metadata": {},
   "source": [
    "A continuació faig un mes dinàmic i complex, amb els mateixos 3 tipus de graus, on l'usuari por triar el tipus de graus i la quantitat i els converteix al altres dos tipus."
   ]
  },
  {
   "cell_type": "code",
   "execution_count": 2,
   "metadata": {},
   "outputs": [
    {
     "name": "stdout",
     "output_type": "stream",
     "text": [
      "25.0 graus Celsius son 77.0 graus Fahrenheit i 298.15 graus Kelvin\n"
     ]
    }
   ],
   "source": [
    "tipus = input(\"\"\"Quin tipus de graus vols convertir? \n",
    "            Per a convertir graus Celsius escriu c\n",
    "            Per Farenheit escriu f\n",
    "            Per Kelvin escriu k\n",
    "            ...\"\"\")\n",
    "graus = float(input(\"Introdueix la quantitat de graus a convertir...\"))\n",
    "def conv_multiple_func():\n",
    "    if tipus == \"c\":\n",
    "        fahr= (graus*9/5)+32 \n",
    "        kel= graus +273.15\n",
    "        print (f\"{graus} graus Celsius son {fahr} graus Fahrenheit i {kel} graus Kelvin\")\n",
    "    elif tipus == \"f\":\n",
    "        celsius = ((graus -32) * 5/9) \n",
    "        kel= celsius +273.15\n",
    "        print (f\"{graus} graus Fahrenheit son {celsius} graus celsius i {kel} graus Kelvin\")\n",
    "    elif tipus == \"k\":\n",
    "        celsius = graus - 273.15\n",
    "        fahr = (celsius*9/5)+32\n",
    "        print (f\"{graus} graus Kelvin son {celsius} graus celsius i {fahr} graus Fahrenheit\")    \n",
    "    else:\n",
    "        print(\"La selecció del tipus de graus ha fallat, recordar triar c, f o k en minúscules\")\n",
    "\n",
    "conv_multiple_func()"
   ]
  },
  {
   "cell_type": "markdown",
   "metadata": {},
   "source": [
    "# NIVELL 1 EXERCICI 3"
   ]
  },
  {
   "cell_type": "markdown",
   "metadata": {},
   "source": [
    "Comptador de paraules d'un text.\n",
    "\n",
    "Escriu una funció que donat un text, mostri les vegades que apareix cada paraula."
   ]
  },
  {
   "cell_type": "code",
   "execution_count": 10,
   "metadata": {},
   "outputs": [
    {
     "data": {
      "text/plain": [
       "1"
      ]
     },
     "execution_count": 10,
     "metadata": {},
     "output_type": "execute_result"
    }
   ],
   "source": [
    "text = input(\"Introdueix el text del que vulguis comptar paraules...\")\n",
    "paraula = input(\"Introdueix la paraula que vulguis comptar...\" )\n",
    "def compta_func(text,paraula):   \n",
    "    return text.count(f\" {paraula} \")\n",
    "compta_func(text,paraula)"
   ]
  },
  {
   "cell_type": "markdown",
   "metadata": {},
   "source": [
    "# NIVELL 1 EXERCICI 4"
   ]
  },
  {
   "cell_type": "markdown",
   "metadata": {},
   "source": [
    "Diccionari invers.\n",
    "\n",
    "Resulta que el client té una enquesta molt antiga que s'emmagatzema en un diccionari i els resultats els necessita al revés, és a dir, intercanviats les claus i els valors. Els valors i claus en el diccionari original són únics; si aquest no és el cas, la funció hauria d'imprimir un missatge d'advertiment."
   ]
  },
  {
   "cell_type": "markdown",
   "metadata": {},
   "source": [
    "El probo amb el diccionari: {\"a\":1,\"b\":2,\"c\":3}  i amb el {\"x\":\"apple\", \"y\":\"banana\", \"z\":\"banana\"}"
   ]
  },
  {
   "cell_type": "code",
   "execution_count": 18,
   "metadata": {},
   "outputs": [
    {
     "name": "stdout",
     "output_type": "stream",
     "text": [
      "El diccionari te valors repetits i no es pot invertir\n"
     ]
    }
   ],
   "source": [
    "import ast\n",
    "dicc_a_invertir_str = input(\"Introdueix el diccionari a invertir...\")\n",
    "try:\n",
    "    dicc_a_invertir = ast.literal_eval(dicc_a_invertir_str)\n",
    "    if not isinstance(dicc_a_invertir, dict):\n",
    "        raise ValueError\n",
    "except (ValueError, SyntaxError):\n",
    "    print(\"Error: El diccionari introduït no es vàlid.\")\n",
    "else:\n",
    "    def invertir_dicc(dicc_a_invertir):\n",
    "        valors = dicc_a_invertir.values()\n",
    "        if len (valors) != len(set(valors)):\n",
    "            print (\"El diccionari te valors repetits i no es pot invertir.\")\n",
    "            return None\n",
    "        dicc_invertit = {valor: clau for clau, valor in dicc_a_invertir.items()}\n",
    "        return dicc_invertit\n",
    "dicc_invertit = invertir_dicc(dicc_a_invertir)\n",
    "if dicc_invertit:\n",
    "    print (\"El diccionari ja invertit es:\", dicc_invertit)"
   ]
  },
  {
   "cell_type": "markdown",
   "metadata": {},
   "source": [
    "# NIVELL 2 EXERCICI 1"
   ]
  },
  {
   "cell_type": "markdown",
   "metadata": {},
   "source": [
    "Diccionari invers amb duplicats\n",
    "\n",
    "Continuant amb l'exercici 4 del nivell 1: al client es va oblidar de comentar un detall i resulta que els valors en el diccionari original poden duplicar-se i més, per la qual cosa les claus intercanviades poden tenir duplicats. En aquest cas, en l'exercici anterior imprimies un missatge d'advertiment, ara, els valors del diccionari resultant hauran d'emmagatzemar-se com una llista. Tingues en compte que si és un valor únic no ha de ser una llista."
   ]
  },
  {
   "cell_type": "markdown",
   "metadata": {},
   "source": [
    "El provo amb el diccionary {\"x\":\"apple\", \"y\":\"banana\", \"z\":\"banana\"}"
   ]
  },
  {
   "cell_type": "code",
   "execution_count": 19,
   "metadata": {},
   "outputs": [
    {
     "name": "stdout",
     "output_type": "stream",
     "text": [
      "El diccionari ja invertit és: {'apple': 'x', 'banana': ['y', 'z']}\n"
     ]
    }
   ],
   "source": [
    "import ast\n",
    "dicc_a_invertir_str = input(\"Introdueix el diccionari a invertir: ...\")\n",
    "try:\n",
    "    dicc_a_invertir = ast.literal_eval(dicc_a_invertir_str)\n",
    "    if not isinstance(dicc_a_invertir, dict):\n",
    "        raise ValueError\n",
    "except (ValueError, SyntaxError):\n",
    "    print (\"Error: El diccionari introduït no és vàlid.\")\n",
    "else:\n",
    "    def invertir_dicc(dicc_a_invertir):\n",
    "        dicc_invertit = {}\n",
    "        for clau, valor in dicc_a_invertir.items():\n",
    "            if valor in dicc_invertit:\n",
    "                if isinstance(dicc_invertit[valor], list):\n",
    "                    dicc_invertit[valor].append(clau)\n",
    "                else:\n",
    "                    dicc_invertit[valor] = [dicc_invertit[valor], clau]\n",
    "            else:\n",
    "                dicc_invertit[valor] = clau\n",
    "        return dicc_invertit\n",
    "    dicc_invertit = invertir_dicc(dicc_a_invertir)\n",
    "    print (\"El diccionari ja invertit és:\", dicc_invertit)"
   ]
  },
  {
   "cell_type": "markdown",
   "metadata": {},
   "source": [
    "# NIVELL 2 EXERCICI 2"
   ]
  },
  {
   "cell_type": "markdown",
   "metadata": {},
   "source": [
    "Conversió de tipus de dades\n",
    "\n",
    "El client rep una llista de dades i necessita generar dues llistes, la primera on estaran tots els elements que es van poder convertir en flotants i l'altra on estan els elements que no es van poder convertir. Exemple de la llista que rep el client: [ '1.3', 'one' , '1e10' , 'seven', '3-1/2', ('2',1,1.4,'not-a-number'), [1,2,'3','3.4']]"
   ]
  },
  {
   "cell_type": "code",
   "execution_count": 21,
   "metadata": {},
   "outputs": [
    {
     "name": "stdout",
     "output_type": "stream",
     "text": [
      "Elements que es van poder convertir a decimals: [1.3, 10000000000.0, 2.0, 1.0, 1.4, 1.0, 2.0, 3.0, 3.4]\n",
      "Elements que no es van poder convertir a decimals: ['one', 'seven', '3-1/2', 'not-a-number']\n"
     ]
    }
   ],
   "source": [
    "import ast\n",
    "llista_inicial_str = input(\"Introdueix la llista inicial...\")\n",
    "try:\n",
    "    llista_inicial = ast.literal_eval(llista_inicial_str)\n",
    "    if not isinstance(llista_inicial, list):\n",
    "        raise ValueError\n",
    "except (ValueError, SyntaxError):\n",
    "    print(\"Error: La llista introduïda no és vàlida.\")\n",
    "    llista_inicial = []\n",
    "def convertir_a_decimal(element):\n",
    "    try:\n",
    "        return float(element), True\n",
    "    except (ValueError, TypeError):\n",
    "        return element, False\n",
    "\n",
    "def separar_llistes(llista):\n",
    "    decimals = []\n",
    "    no_convertits = []\n",
    "\n",
    "    for element in llista:\n",
    "        if isinstance(element, (list, tuple)):\n",
    "            decimals2, no_convertits2 = separar_llistes(element)\n",
    "            decimals.extend(decimals2)\n",
    "            no_convertits.extend(no_convertits2)\n",
    "        else:\n",
    "            valor, convertit = convertir_a_decimal(element)\n",
    "            if convertit:\n",
    "                decimals.append(valor)\n",
    "            else:\n",
    "                no_convertits.append(valor)\n",
    "\n",
    "    return decimals, no_convertits\n",
    "decimals, no_convertits = separar_llistes(llista_inicial)\n",
    "\n",
    "print(\"Elements que es van poder convertir a decimals:\", decimals)\n",
    "print(\"Elements que no es van poder convertir a decimals:\", no_convertits)"
   ]
  },
  {
   "cell_type": "markdown",
   "metadata": {},
   "source": [
    "# NIVELL 3 EXERCICI 1"
   ]
  },
  {
   "cell_type": "markdown",
   "metadata": {},
   "source": [
    "Comptador i endreçador de paraules d'un text.\n",
    "\n",
    "El client va quedar content amb el comptador de paraules, però ara vol llegir arxius TXT i que calculi la freqüència de cada paraula ordenades dins de les entrades habituals del diccionari segons la lletra amb la qual comencen, és a dir, les claus han d'anar de la A a la Z i dins de la A hem d'anar de la A la Z."
   ]
  },
  {
   "cell_type": "code",
   "execution_count": 1,
   "metadata": {},
   "outputs": [
    {
     "name": "stdout",
     "output_type": "stream",
     "text": [
      "(: \n",
      "  (dios: 2\n",
      ".: \n",
      "  .: 1\n",
      "a: \n",
      "  a: 3\n",
      "  agua:: 1\n",
      "  al: 2\n",
      "  alba!: 1\n",
      "  alba,: 1\n",
      "  alba.: 2\n",
      "  alcobas: 1\n",
      "  alimenta: 1\n",
      "  alma: 1\n",
      "  amarga;: 1\n",
      "  azucena: 1\n",
      "b: \n",
      "  baco.: 1\n",
      "  banquete: 1\n",
      "  bebe: 1\n",
      "  blanca: 1\n",
      "  blanca,: 2\n",
      "  boca;: 1\n",
      "  bosques,: 1\n",
      "  buen: 1\n",
      "c: \n",
      "  cabañas;: 1\n",
      "  carnes: 2\n",
      "  casta: 1\n",
      "  casta.: 2\n",
      "  cerrada: 1\n",
      "  con: 4\n",
      "  conservas: 1\n",
      "  copas: 1\n",
      "  corola: 1\n",
      "  corriste: 1\n",
      "  cuando: 2\n",
      "  cubierto: 1\n",
      "  cuerpo: 1\n",
      "  cuáles: 1\n",
      "d: \n",
      "  de: 8\n",
      "  dejaste: 1\n",
      "  del: 1\n",
      "  diga: 1\n",
      "  duerme: 1\n",
      "e: \n",
      "  el: 4\n",
      "  ellas: 1\n",
      "  en: 4\n",
      "  engaño: 1\n",
      "  enredada,: 1\n",
      "  entonces,: 1\n",
      "  escarcha;: 1\n",
      "  espumas,: 1\n",
      "  esqueleto: 1\n",
      "  estrago.: 1\n",
      "f: \n",
      "  festejando: 1\n",
      "  filtrado: 1\n",
      "  frutos: 1\n",
      "h: \n",
      "  habla: 1\n",
      "  hacia: 1\n",
      "  haya.: 1\n",
      "  hayas: 1\n",
      "  hermana.: 1\n",
      "  hombre,: 1\n",
      "  hubiste: 1\n",
      "  huye: 1\n",
      "i: \n",
      "  intacto: 1\n",
      "j: \n",
      "  jardines: 1\n",
      "l: \n",
      "  la: 3\n",
      "  labios: 1\n",
      "  las: 7\n",
      "  lo: 2\n",
      "  los: 4\n",
      "  luna: 1\n",
      "  lévate: 1\n",
      "  límpiate: 1\n",
      "m: \n",
      "  mano,: 1\n",
      "  manos: 1\n",
      "  margarita: 1\n",
      "  me: 9\n",
      "  mi: 1\n",
      "  mieles: 1\n",
      "  milagros,: 1\n",
      "  mojada;: 1\n",
      "  montaña;: 1\n",
      "  morados.: 1\n",
      "n: \n",
      "  negros: 1\n",
      "  ni: 2\n",
      "  no: 1\n",
      "  nácar.: 1\n",
      "  nívea,: 2\n",
      "p: \n",
      "  perdone),: 2\n",
      "  perfume: 1\n",
      "  por: 2\n",
      "  pretendes: 3\n",
      "  preténdeme: 3\n",
      "  puesto: 1\n",
      "  pájaros: 1\n",
      "  pámpanos: 1\n",
      "q: \n",
      "  que: 6\n",
      "  quedó: 1\n",
      "  quieres: 6\n",
      "r: \n",
      "  rayo: 1\n",
      "  raíz: 1\n",
      "  renueva: 1\n",
      "  rocas;: 1\n",
      "  rojo: 1\n",
      "s: \n",
      "  salitre: 1\n",
      "  se: 2\n",
      "  sea: 1\n",
      "  sean: 1\n",
      "  sobre: 2\n",
      "  sé: 1\n",
      "t: \n",
      "  te: 3\n",
      "  tejidos: 1\n",
      "  tenue.: 1\n",
      "  tierra: 1\n",
      "  toca: 1\n",
      "  todas: 1\n",
      "  todas,: 1\n",
      "  todavía: 1\n",
      "  tornadas,: 1\n",
      "  tú: 8\n",
      "u: \n",
      "  un: 1\n",
      "  una: 1\n",
      "v: \n",
      "  vestido: 1\n",
      "  vete: 1\n",
      "  vive: 1\n",
      "y: \n",
      "  y: 5\n",
      "¡: \n",
      "  ¡me: 1\n"
     ]
    }
   ],
   "source": [
    "import string\n",
    "from collections import defaultdict, Counter\n",
    "# Importem les llibreries i funcions que necessitarem.\n",
    "\n",
    "def llegir_arxiu(nom_arxiu):\n",
    "    try:\n",
    "        with open(nom_arxiu, 'r', encoding='utf-8') as arxiu:\n",
    "            contingut = arxiu.read()\n",
    "        return contingut\n",
    "    except FileNotFoundError:\n",
    "        print(f\"No s'ha trobat el fitxer {nom_arxiu}, assegura't que està a la mateixa carpeta que aquest arxiu\")\n",
    "# Obrim l'arxiu per lectura ('r') i el llegim (.read). Afegim missatge d'error si no es pot obrir l'arxiu.\n",
    "\n",
    "def processar_text(text_contingut):\n",
    "    # Convertim el text a minúscules\n",
    "    text_contingut = text_contingut.lower()\n",
    "    # Eliminem els signes de puntuació creant una taula de traducció amb str.maketrans i aplicanta-la al text amb text.transalte\n",
    "    text = text_contingut.translate(str.maketrans('', '', string.punctuation))\n",
    "    # Dividim el text en paraules\n",
    "    paraules = text_contingut.split()\n",
    "    return paraules\n",
    "\n",
    "def comptar_paraules(paraules):\n",
    "    # Comptem quantes vegades surt cada paraula. Creant una mena de diccionari ('dict') comptador amb counter.\n",
    "    comptador = Counter(paraules)\n",
    "    return comptador\n",
    "\n",
    "def organitzar_paraules(comptador):\n",
    "    dicc_resultat = defaultdict(lambda: defaultdict(int))\n",
    "# Amb default diccionari creem una funcio lambda que asigni un enter a cada paraula.\n",
    "    for paraula, freq in comptador.items():\n",
    "        lletra_inicial = paraula[0]\n",
    "        dicc_resultat[lletra_inicial][paraula] = freq\n",
    "# Iterem sobre comptador i obtenim la lletra inicial de cada paraula i la seva frequència.\n",
    "    # Convertim a diccionaris normals i ordenem per obtenir el diccionari ordenat(dicc_ordenat).\n",
    "    dicc_ordenat = {lletra: dict(sorted(paraules.items())) for lletra, paraules in sorted(dicc_resultat.items())}\n",
    "    return dicc_ordenat\n",
    "\n",
    "def mostrar_resultats(dicc):\n",
    "    for lletra_inicial, paraules in dicc.items():\n",
    "        print(f\"{lletra_inicial}: \")\n",
    "        for paraula, freq in paraules.items():\n",
    "            print(f\"  {paraula}: {freq}\")\n",
    "# Printem el resultat, lletra inicial i a dins paraula i frequència.\n",
    "def comptar_endreçar(nom_arxiu):\n",
    "    contingut = llegir_arxiu(nom_arxiu)\n",
    "    if contingut:\n",
    "        paraules = processar_text(contingut)\n",
    "        comptador = comptar_paraules(paraules)\n",
    "        dicc_resultat = organitzar_paraules(comptador)\n",
    "        mostrar_resultats(dicc_resultat)\n",
    "\n",
    "nom_arxiu = \"tu_me_quieres_blanca.txt\"\n",
    "comptar_endreçar(nom_arxiu)\n"
   ]
  }
 ],
 "metadata": {
  "kernelspec": {
   "display_name": "Python 3",
   "language": "python",
   "name": "python3"
  },
  "language_info": {
   "codemirror_mode": {
    "name": "ipython",
    "version": 3
   },
   "file_extension": ".py",
   "mimetype": "text/x-python",
   "name": "python",
   "nbconvert_exporter": "python",
   "pygments_lexer": "ipython3",
   "version": "3.11.9"
  }
 },
 "nbformat": 4,
 "nbformat_minor": 2
}
