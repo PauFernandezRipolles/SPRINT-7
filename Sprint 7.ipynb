{
 "cells": [
  {
   "cell_type": "markdown",
   "metadata": {},
   "source": [
    "# NIVELL 1  EXERCICI 1"
   ]
  },
  {
   "cell_type": "markdown",
   "metadata": {},
   "source": [
    "Calculadora de l'índex de massa corporal\n",
    "\n",
    "Escriu una funció que calculi l'IMC ingressat per l'usuari/ària, és a dir, qui ho executi haurà d'ingressar aquestes dades. Pots obtenir més informació del seu càlcul en:\n",
    "\n",
    "-> Índice de masa corporal IMC que es y como se calcula.\n",
    "\n",
    "La funció ha de classificar el resultat en les seves respectives categories"
   ]
  },
  {
   "cell_type": "code",
   "execution_count": 1,
   "metadata": {},
   "outputs": [
    {
     "name": "stdout",
     "output_type": "stream",
     "text": [
      "Tens sobrepès\n"
     ]
    }
   ],
   "source": [
    "pes = float(input(\"Si us plau, introdueix el teu pes en kilograms: \"))\n",
    "alçada = float(input(\"Introdueix la teva alçada en metres: \"))\n",
    "imc = pes / (alçada ** 2)\n",
    "\n",
    "if imc < 18.5:\n",
    "    print(\"Tens un pes baix\")\n",
    "elif 18.5 <= imc <= 24.9:\n",
    "    print(\"Tens un pes normal\")\n",
    "elif 24.9 < imc <= 29.9:\n",
    "    print(\"Tens sobrepès\")\n",
    "else:\n",
    "    print(\"Tens obesitat\")"
   ]
  },
  {
   "cell_type": "markdown",
   "metadata": {},
   "source": [
    "# NIVELL 1 EXERCICI 1   "
   ]
  },
  {
   "cell_type": "markdown",
   "metadata": {},
   "source": [
    "Convertidor de temperatures.\n",
    "\n",
    "Existeixen diverses unitats de temperatura utilitzades en diferents contextos i regions. Les més comunes són Celsius (°C), Fahrenheit (°F) i Kelvin (K). També existeixen altres unitats com Rankine (°Ra) i Réaumur (°Re). Selecciona almenys 2 conversors, de tal manera que en introduir una temperatura retorni, com a mínim, dues conversions."
   ]
  },
  {
   "cell_type": "markdown",
   "metadata": {},
   "source": [
    "Primer faig un convertidor simple que transforma Celsius a Fahrenheit i Kelvin"
   ]
  },
  {
   "cell_type": "code",
   "execution_count": 3,
   "metadata": {},
   "outputs": [
    {
     "name": "stdout",
     "output_type": "stream",
     "text": [
      "25.0 graus Celsius son 77.0 graus Fahrenheit i 298.15 graus Kelvin\n"
     ]
    }
   ],
   "source": [
    "celsius = float(input(\"Introdueix els graus Celsius que vols convertir...\"))\n",
    "def convertidor_func():\n",
    "    fahr= (celsius*9/5)+32 \n",
    "    kel= celsius +273.15\n",
    "    print (f\"{celsius} graus Celsius son {fahr} graus Fahrenheit i {kel} graus Kelvin\")\n",
    "convertidor_func()"
   ]
  },
  {
   "cell_type": "markdown",
   "metadata": {},
   "source": [
    "A continuació faig un mes dinàmic i complex, amb els mateixos 3 tipus de graus, on l'usuari por triar el tipus de graus i la quantitat i els converteix al altres dos tipus."
   ]
  },
  {
   "cell_type": "code",
   "execution_count": 2,
   "metadata": {},
   "outputs": [
    {
     "name": "stdout",
     "output_type": "stream",
     "text": [
      "25.0 graus Celsius son 77.0 graus Fahrenheit i 298.15 graus Kelvin\n"
     ]
    }
   ],
   "source": [
    "tipus = input(\"\"\"Quin tipus de graus vols convertir? \n",
    "            Per a convertir graus Celsius escriu c\n",
    "            Per Farenheit escriu f\n",
    "            Per Kelvin escriu k\n",
    "            ...\"\"\")\n",
    "graus = float(input(\"Introdueix la quantitat de graus a convertir...\"))\n",
    "def conv_multiple_func():\n",
    "    if tipus == \"c\":\n",
    "        fahr= (graus*9/5)+32 \n",
    "        kel= graus +273.15\n",
    "        print (f\"{graus} graus Celsius son {fahr} graus Fahrenheit i {kel} graus Kelvin\")\n",
    "    elif tipus == \"f\":\n",
    "        celsius = ((graus -32) * 5/9) \n",
    "        kel= celsius +273.15\n",
    "        print (f\"{graus} graus Fahrenheit son {celsius} graus celsius i {kel} graus Kelvin\")\n",
    "    elif tipus == \"k\":\n",
    "        celsius = graus - 273.15\n",
    "        fahr = (celsius*9/5)+32\n",
    "        print (f\"{graus} graus Kelvin son {celsius} graus celsius i {fahr} graus Fahrenheit\")    \n",
    "    else:\n",
    "        print(\"La selecció del tipus de graus ha fallat, recordar triar c, f o k en minúscules\")\n",
    "\n",
    "conv_multiple_func()"
   ]
  },
  {
   "cell_type": "markdown",
   "metadata": {},
   "source": [
    "# NIVELL 1 EXERCICI 3"
   ]
  },
  {
   "cell_type": "markdown",
   "metadata": {},
   "source": [
    "Comptador de paraules d'un text.\n",
    "\n",
    "Escriu una funció que donat un text, mostri les vegades que apareix cada paraula."
   ]
  },
  {
   "cell_type": "code",
   "execution_count": 10,
   "metadata": {},
   "outputs": [
    {
     "data": {
      "text/plain": [
       "1"
      ]
     },
     "execution_count": 10,
     "metadata": {},
     "output_type": "execute_result"
    }
   ],
   "source": [
    "text = input(\"Introdueix el text del que vulguis comptar paraules...\")\n",
    "paraula = input(\"Introdueix la paraula que vulguis comptar...\" )\n",
    "def compta_func(text,paraula):   \n",
    "    return text.count(f\" {paraula} \")\n",
    "compta_func(text,paraula)"
   ]
  },
  {
   "cell_type": "markdown",
   "metadata": {},
   "source": [
    "# NIVELL 1 EXERCICI 4"
   ]
  },
  {
   "cell_type": "markdown",
   "metadata": {},
   "source": [
    "Diccionari invers.\n",
    "\n",
    "Resulta que el client té una enquesta molt antiga que s'emmagatzema en un diccionari i els resultats els necessita al revés, és a dir, intercanviats les claus i els valors. Els valors i claus en el diccionari original són únics; si aquest no és el cas, la funció hauria d'imprimir un missatge d'advertiment."
   ]
  },
  {
   "cell_type": "markdown",
   "metadata": {},
   "source": [
    "El probo amb el diccionari: {\"a\":1,\"b\":2,\"c\":3}  i amb el {\"x\":\"apple\", \"y\":\"banana\", \"z\":\"banana\"}"
   ]
  },
  {
   "cell_type": "code",
   "execution_count": 18,
   "metadata": {},
   "outputs": [
    {
     "name": "stdout",
     "output_type": "stream",
     "text": [
      "El diccionari te valors repetits i no es pot invertir\n"
     ]
    }
   ],
   "source": [
    "import ast\n",
    "dicc_a_invertir_str = input(\"Introdueix el diccionari a invertir...\")\n",
    "try:\n",
    "    dicc_a_invertir = ast.literal_eval(dicc_a_invertir_str)\n",
    "    if not isinstance(dicc_a_invertir, dict):\n",
    "        raise ValueError\n",
    "except (ValueError, SyntaxError):\n",
    "    print(\"Error: El diccionari introduït no es vàlid.\")\n",
    "else:\n",
    "    def invertir_dicc(dicc_a_invertir):\n",
    "        valors = dicc_a_invertir.values()\n",
    "        if len (valors) != len(set(valors)):\n",
    "            print (\"El diccionari te valors repetits i no es pot invertir.\")\n",
    "            return None\n",
    "        dicc_invertit = {valor: clau for clau, valor in dicc_a_invertir.items()}\n",
    "        return dicc_invertit\n",
    "dicc_invertit = invertir_dicc(dicc_a_invertir)\n",
    "if dicc_invertit:\n",
    "    print (\"El diccionari ja invertit es:\", dicc_invertit)"
   ]
  },
  {
   "cell_type": "markdown",
   "metadata": {},
   "source": [
    "# NIVELL 2 EXERCICI 1"
   ]
  },
  {
   "cell_type": "markdown",
   "metadata": {},
   "source": [
    "Diccionari invers amb duplicats\n",
    "\n",
    "Continuant amb l'exercici 4 del nivell 1: al client es va oblidar de comentar un detall i resulta que els valors en el diccionari original poden duplicar-se i més, per la qual cosa les claus intercanviades poden tenir duplicats. En aquest cas, en l'exercici anterior imprimies un missatge d'advertiment, ara, els valors del diccionari resultant hauran d'emmagatzemar-se com una llista. Tingues en compte que si és un valor únic no ha de ser una llista."
   ]
  },
  {
   "cell_type": "markdown",
   "metadata": {},
   "source": [
    "El provo amb el diccionary {\"x\":\"apple\", \"y\":\"banana\", \"z\":\"banana\"}"
   ]
  },
  {
   "cell_type": "code",
   "execution_count": 19,
   "metadata": {},
   "outputs": [
    {
     "name": "stdout",
     "output_type": "stream",
     "text": [
      "El diccionari ja invertit és: {'apple': 'x', 'banana': ['y', 'z']}\n"
     ]
    }
   ],
   "source": [
    "import ast\n",
    "dicc_a_invertir_str = input(\"Introdueix el diccionari a invertir: ...\")\n",
    "try:\n",
    "    dicc_a_invertir = ast.literal_eval(dicc_a_invertir_str)\n",
    "    if not isinstance(dicc_a_invertir, dict):\n",
    "        raise ValueError\n",
    "except (ValueError, SyntaxError):\n",
    "    print (\"Error: El diccionari introduït no és vàlid.\")\n",
    "else:\n",
    "    def invertir_dicc(dicc_a_invertir):\n",
    "        dicc_invertit = {}\n",
    "        for clau, valor in dicc_a_invertir.items():\n",
    "            if valor in dicc_invertit:\n",
    "                if isinstance(dicc_invertit[valor], list):\n",
    "                    dicc_invertit[valor].append(clau)\n",
    "                else:\n",
    "                    dicc_invertit[valor] = [dicc_invertit[valor], clau]\n",
    "            else:\n",
    "                dicc_invertit[valor] = clau\n",
    "        return dicc_invertit\n",
    "    dicc_invertit = invertir_dicc(dicc_a_invertir)\n",
    "    print (\"El diccionari ja invertit és:\", dicc_invertit)"
   ]
  },
  {
   "cell_type": "markdown",
   "metadata": {},
   "source": [
    "# NIVELL 2 EXERCICI 2"
   ]
  },
  {
   "cell_type": "markdown",
   "metadata": {},
   "source": [
    "Conversió de tipus de dades\n",
    "\n",
    "El client rep una llista de dades i necessita generar dues llistes, la primera on estaran tots els elements que es van poder convertir en flotants i l'altra on estan els elements que no es van poder convertir. Exemple de la llista que rep el client: [ '1.3', 'one' , '1e10' , 'seven', '3-1/2', ('2',1,1.4,'not-a-number'), [1,2,'3','3.4']]"
   ]
  },
  {
   "cell_type": "code",
   "execution_count": 21,
   "metadata": {},
   "outputs": [
    {
     "name": "stdout",
     "output_type": "stream",
     "text": [
      "Elements que es van poder convertir a decimals: [1.3, 10000000000.0, 2.0, 1.0, 1.4, 1.0, 2.0, 3.0, 3.4]\n",
      "Elements que no es van poder convertir a decimals: ['one', 'seven', '3-1/2', 'not-a-number']\n"
     ]
    }
   ],
   "source": [
    "import ast\n",
    "llista_inicial_str = input(\"Introdueix la llista inicial...\")\n",
    "try:\n",
    "    llista_inicial = ast.literal_eval(llista_inicial_str)\n",
    "    if not isinstance(llista_inicial, list):\n",
    "        raise ValueError\n",
    "except (ValueError, SyntaxError):\n",
    "    print(\"Error: La llista introduïda no és vàlida.\")\n",
    "    llista_inicial = []\n",
    "def convertir_a_decimal(element):\n",
    "    try:\n",
    "        return float(element), True\n",
    "    except (ValueError, TypeError):\n",
    "        return element, False\n",
    "\n",
    "def separar_llistes(llista):\n",
    "    decimals = []\n",
    "    no_convertits = []\n",
    "\n",
    "    for element in llista:\n",
    "        if isinstance(element, (list, tuple)):\n",
    "            decimals2, no_convertits2 = separar_llistes(element)\n",
    "            decimals.extend(decimals2)\n",
    "            no_convertits.extend(no_convertits2)\n",
    "        else:\n",
    "            valor, convertit = convertir_a_decimal(element)\n",
    "            if convertit:\n",
    "                decimals.append(valor)\n",
    "            else:\n",
    "                no_convertits.append(valor)\n",
    "\n",
    "    return decimals, no_convertits\n",
    "decimals, no_convertits = separar_llistes(llista_inicial)\n",
    "\n",
    "print(\"Elements que es van poder convertir a decimals:\", decimals)\n",
    "print(\"Elements que no es van poder convertir a decimals:\", no_convertits)"
   ]
  },
  {
   "cell_type": "markdown",
   "metadata": {},
   "source": [
    "# NIVELL 3 EXERCICI 1"
   ]
  },
  {
   "cell_type": "markdown",
   "metadata": {},
   "source": [
    "Comptador i endreçador de paraules d'un text.\n",
    "\n",
    "El client va quedar content amb el comptador de paraules, però ara vol llegir arxius TXT i que calculi la freqüència de cada paraula ordenades dins de les entrades habituals del diccionari segons la lletra amb la qual comencen, és a dir, les claus han d'anar de la A a la Z i dins de la A hem d'anar de la A la Z."
   ]
  },
  {
   "cell_type": "code",
   "execution_count": null,
   "metadata": {},
   "outputs": [],
   "source": [
    "import string\n",
    "from collections import defaultdict, Counter\n",
    "\n",
    "def llegir_arxiu(nom_arxiu):\n",
    "    try:\n",
    "        with open(nom_arxiu, 'r', encoding='utf-8') as file:\n",
    "            contingut = file.read()\n",
    "        return contingut\n",
    "    except FileNotFoundError:\n",
    "        print(f\"Error: No s'ha trobat el fitxer {nom_arxiu}\")\n",
    "        return \"\"\n",
    "\n",
    "def processar_text(text):\n",
    "    # Convertir a minúscules\n",
    "    text = text.lower()\n",
    "    # Eliminar puntuació\n",
    "    text = text.translate(str.maketrans('', '', string.punctuation))\n",
    "    # Dividir en paraules\n",
    "    paraules = text.split()\n",
    "    return paraules\n",
    "\n",
    "def comptar_paraules(paraules):\n",
    "    # Comptar la freqüència de cada paraula\n",
    "    comptador = Counter(paraules)\n",
    "    return comptador\n",
    "\n",
    "def organitzar_paraules(comptador):\n",
    "    dicc_resultat = defaultdict(lambda: defaultdict(int))\n",
    "    \n",
    "    for paraula, freq in comptador.items():\n",
    "        lletra_inicial = paraula[0]\n",
    "        dicc_resultat[lletra_inicial][paraula] = freq\n",
    "    \n",
    "    # Convertir a diccionaris normals i ordenar\n",
    "    dicc_ordenat = {lletra: dict(sorted(paraules.items())) for lletra, paraules in sorted(dicc_resultat.items())}\n",
    "    return dicc_ordenat\n",
    "\n",
    "def mostrar_resultats(dicc):\n",
    "    for lletra_inicial, paraules in dicc.items():\n",
    "        print(f\"{lletra_inicial.upper()}:\")\n",
    "        for paraula, freq in paraules.items():\n",
    "            print(f\"  {paraula}: {freq}\")\n",
    "\n",
    "def main(nom_arxiu):\n",
    "    contingut = llegir_arxiu(nom_arxiu)\n",
    "    if contingut:\n",
    "        paraules = processar_text(contingut)\n",
    "        comptador = comptar_paraules(paraules)\n",
    "        dicc_resultat = organitzar_paraules(comptador)\n",
    "        mostrar_resultats(dicc_resultat)\n",
    "\n",
    "# Exemple d'ús\n",
    "nom_arxiu = \"tu_me_quieres_blanca.txt\"\n",
    "main(nom_arxiu)\n"
   ]
  },
  {
   "cell_type": "markdown",
   "metadata": {},
   "source": [
    "Explicació del codi:\n",
    "Llegir el contingut d'un fitxer (llegir_arxiu):\n",
    "\n",
    "Aquesta funció llegeix el contingut d'un fitxer de text i retorna el seu contingut com una cadena.\n",
    "Processar el text (processar_text):\n",
    "\n",
    "Converteix tot el text a minúscules.\n",
    "Elimina tots els signes de puntuació.\n",
    "Divideix el text en paraules.\n",
    "Comptar la freqüència de cada paraula (comptar_paraules):\n",
    "\n",
    "Utilitza Counter de la biblioteca collections per comptar la freqüència de cada paraula.\n",
    "Organitzar les paraules en el diccionari (organitzar_paraules):\n",
    "\n",
    "Utilitza un defaultdict de defaultdict(int) per crear un diccionari on les claus són les lletres inicials de les paraules.\n",
    "Per cada paraula en el comptador, afegeix la seva freqüència al diccionari corresponent.\n",
    "Converteix el defaultdict en un diccionari normal i ordena les paraules dins de cada lletra inicial.\n",
    "Mostrar els resultats (mostrar_resultats):\n",
    "\n",
    "Imprimeix el diccionari organitzat de manera clara, mostrant cada lletra inicial i les paraules associades amb les seves freqüències.\n",
    "Funció principal (main):\n",
    "\n",
    "Orquestra la lectura del fitxer, el processament del text, el recompte de paraules, l'organització i la visualització dels resultats.\n",
    "Exemple d'ús:\n",
    "El programa llegeix el fitxer tu_me_quieres_blanca.txt, processa el text i imprimeix la freqüència de cada paraula ordenades segons les lletres inicials. Això proporciona al client una forma estructurada de veure la distribució de paraules en el text."
   ]
  }
 ],
 "metadata": {
  "kernelspec": {
   "display_name": "Python 3",
   "language": "python",
   "name": "python3"
  },
  "language_info": {
   "codemirror_mode": {
    "name": "ipython",
    "version": 3
   },
   "file_extension": ".py",
   "mimetype": "text/x-python",
   "name": "python",
   "nbconvert_exporter": "python",
   "pygments_lexer": "ipython3",
   "version": "3.11.9"
  }
 },
 "nbformat": 4,
 "nbformat_minor": 2
}
