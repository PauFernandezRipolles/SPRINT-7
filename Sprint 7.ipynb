{
 "cells": [
  {
   "cell_type": "markdown",
   "metadata": {},
   "source": [
    "# NIVELL 1 EXERCICI 1"
   ]
  },
  {
   "cell_type": "markdown",
   "metadata": {},
   "source": [
    "Calculadora de l'índex de massa corporal\n",
    "\n",
    "Escriu una funció que calculi l'IMC ingressat per l'usuari/ària, és a dir, qui ho executi haurà d'ingressar aquestes dades. Pots obtenir més informació del seu càlcul en:\n",
    "\n",
    "-> Índice de masa corporal IMC que es y como se calcula.\n",
    "\n",
    "La funció ha de classificar el resultat en les seves respectives categories"
   ]
  },
  {
   "cell_type": "code",
   "execution_count": 1,
   "metadata": {},
   "outputs": [
    {
     "name": "stdout",
     "output_type": "stream",
     "text": [
      "Tens sobrepès\n"
     ]
    }
   ],
   "source": [
    "pes = float(input(\"Si us plau, introdueix el teu pes en kilograms: \"))\n",
    "alçada = float(input(\"Introdueix la teva alçada en metres: \"))\n",
    "imc = pes / (alçada ** 2)\n",
    "\n",
    "if imc < 18.5:\n",
    "    print(\"Tens un pes baix\")\n",
    "elif 18.5 <= imc <= 24.9:\n",
    "    print(\"Tens un pes normal\")\n",
    "elif 24.9 < imc <= 29.9:\n",
    "    print(\"Tens sobrepès\")\n",
    "else:\n",
    "    print(\"Tens obesitat\")"
   ]
  },
  {
   "cell_type": "markdown",
   "metadata": {},
   "source": [
    "# NIVELL 1 EXERCICI 1   "
   ]
  },
  {
   "cell_type": "markdown",
   "metadata": {},
   "source": [
    "Convertidor de temperatures.\n",
    "\n",
    "Existeixen diverses unitats de temperatura utilitzades en diferents contextos i regions. Les més comunes són Celsius (°C), Fahrenheit (°F) i Kelvin (K). També existeixen altres unitats com Rankine (°Ra) i Réaumur (°Re). Selecciona almenys 2 conversors, de tal manera que en introduir una temperatura retorni, com a mínim, dues conversions."
   ]
  },
  {
   "cell_type": "markdown",
   "metadata": {},
   "source": [
    "Primer faig un convertidor simple que transforma Celsius a Fahrenheit i Kelvin"
   ]
  },
  {
   "cell_type": "code",
   "execution_count": 3,
   "metadata": {},
   "outputs": [
    {
     "name": "stdout",
     "output_type": "stream",
     "text": [
      "25.0 graus Celsius son 77.0 graus Fahrenheit i 298.15 graus Kelvin\n"
     ]
    }
   ],
   "source": [
    "celsius = float(input(\"Introdueix els graus Celsius que vols convertir...\"))\n",
    "def convertidor_func():\n",
    "    fahr= (celsius*9/5)+32 \n",
    "    kel= celsius +273.15\n",
    "    print (f\"{celsius} graus Celsius son {fahr} graus Fahrenheit i {kel} graus Kelvin\")\n",
    "convertidor_func()"
   ]
  },
  {
   "cell_type": "markdown",
   "metadata": {},
   "source": [
    "A continuació faig un mes dinàmic i complex, amb els mateixos 3 tipus de graus, on l'usuari por triar el tipus de graus i la quantitat i els converteix al altres dos tipus."
   ]
  },
  {
   "cell_type": "code",
   "execution_count": 2,
   "metadata": {},
   "outputs": [
    {
     "name": "stdout",
     "output_type": "stream",
     "text": [
      "25.0 graus Celsius son 77.0 graus Fahrenheit i 298.15 graus Kelvin\n"
     ]
    }
   ],
   "source": [
    "tipus = input(\"\"\"Quin tipus de graus vols convertir? \n",
    "            Per a convertir graus Celsius escriu c\n",
    "            Per Farenheit escriu f\n",
    "            Per Kelvin escriu k\n",
    "            ...\"\"\")\n",
    "graus = float(input(\"Introdueix la quantitat de graus a convertir...\"))\n",
    "def conv_multiple_func():\n",
    "    if tipus == \"c\":\n",
    "        fahr= (graus*9/5)+32 \n",
    "        kel= graus +273.15\n",
    "        print (f\"{graus} graus Celsius son {fahr} graus Fahrenheit i {kel} graus Kelvin\")\n",
    "    elif tipus == \"f\":\n",
    "        celsius = ((graus -32) * 5/9) \n",
    "        kel= celsius +273.15\n",
    "        print (f\"{graus} graus Fahrenheit son {celsius} graus celsius i {kel} graus Kelvin\")\n",
    "    elif tipus == \"k\":\n",
    "        celsius = graus - 273.15\n",
    "        fahr = (celsius*9/5)+32\n",
    "        print (f\"{graus} graus Kelvin son {celsius} graus celsius i {fahr} graus Fahrenheit\")    \n",
    "    else:\n",
    "        print(\"La selecció del tipus de graus ha fallat, recordar triar c, f o k en minúscules\")\n",
    "\n",
    "conv_multiple_func()"
   ]
  },
  {
   "cell_type": "markdown",
   "metadata": {},
   "source": [
    "# NIVELL 1 EXERCICI 3"
   ]
  },
  {
   "cell_type": "markdown",
   "metadata": {},
   "source": [
    "Comptador de paraules d'un text.\n",
    "\n",
    "Escriu una funció que donat un text, mostri les vegades que apareix cada paraula."
   ]
  },
  {
   "cell_type": "code",
   "execution_count": 10,
   "metadata": {},
   "outputs": [
    {
     "data": {
      "text/plain": [
       "1"
      ]
     },
     "execution_count": 10,
     "metadata": {},
     "output_type": "execute_result"
    }
   ],
   "source": [
    "text = input(\"Introdueix el text del que vulguis comptar paraules...\")\n",
    "paraula = input(\"Introdueix la paraula que vulguis comptar...\" )\n",
    "def compta_func(text,paraula):   \n",
    "    return text.count(f\" {paraula} \")\n",
    "compta_func(text,paraula)"
   ]
  },
  {
   "cell_type": "markdown",
   "metadata": {},
   "source": [
    "# NIVELL 1 EXERCICI 4"
   ]
  },
  {
   "cell_type": "markdown",
   "metadata": {},
   "source": [
    "Diccionari invers.\n",
    "\n",
    "Resulta que el client té una enquesta molt antiga que s'emmagatzema en un diccionari i els resultats els necessita al revés, és a dir, intercanviats les claus i els valors. Els valors i claus en el diccionari original són únics; si aquest no és el cas, la funció hauria d'imprimir un missatge d'advertiment."
   ]
  },
  {
   "cell_type": "markdown",
   "metadata": {},
   "source": [
    "El probo amb el diccionari: {\"a\":1,\"b\":2,\"c\":3}  i amb el {\"x\":\"apple\", \"y\":\"banana\", \"z\":\"banana\"}"
   ]
  },
  {
   "cell_type": "code",
   "execution_count": 18,
   "metadata": {},
   "outputs": [
    {
     "name": "stdout",
     "output_type": "stream",
     "text": [
      "El diccionari te valors repetits i no es pot invertir\n"
     ]
    }
   ],
   "source": [
    "import ast\n",
    "dicc_a_invertir_str = input(\"Introdueix el diccionari a invertir\")\n",
    "try:\n",
    "    dicc_a_invertir = ast.literal_eval(dicc_a_invertir_str)\n",
    "    if not isinstance(dicc_a_invertir, dict):\n",
    "        raise ValueError\n",
    "except (ValueError, SyntaxError):\n",
    "    print(\"Error: El diccionari introduït no es vàlid.\")\n",
    "else:\n",
    "    def invertir_dicc(dicc_a_invertir):\n",
    "        valors = dicc_a_invertir.values()\n",
    "        if len (valors) != len(set(valors)):\n",
    "            print (\"El diccionari te valors repetits i no es pot invertir\")\n",
    "            return None\n",
    "        dicc_invertit = {valor: clau for clau, valor in dicc_a_invertir.items()}\n",
    "        return dicc_invertit\n",
    "dicc_invertit = invertir_dicc(dicc_a_invertir)\n",
    "if dicc_invertit:\n",
    "    print (\"El diccionari ja invertit es:\", dicc_invertit)"
   ]
  },
  {
   "cell_type": "code",
   "execution_count": null,
   "metadata": {},
   "outputs": [],
   "source": []
  }
 ],
 "metadata": {
  "kernelspec": {
   "display_name": "Python 3",
   "language": "python",
   "name": "python3"
  },
  "language_info": {
   "codemirror_mode": {
    "name": "ipython",
    "version": 3
   },
   "file_extension": ".py",
   "mimetype": "text/x-python",
   "name": "python",
   "nbconvert_exporter": "python",
   "pygments_lexer": "ipython3",
   "version": "3.11.9"
  }
 },
 "nbformat": 4,
 "nbformat_minor": 2
}
